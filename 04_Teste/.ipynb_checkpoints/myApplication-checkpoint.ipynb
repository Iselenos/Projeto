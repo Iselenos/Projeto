{
 "cells": [
  {
   "cell_type": "code",
   "execution_count": 1,
   "metadata": {},
   "outputs": [
    {
     "data": {
      "application/vnd.jupyter.widget-view+json": {
       "model_id": "676092a74dad4e9ab11efefb514ec223",
       "version_major": 2,
       "version_minor": 0
      },
      "text/plain": [
       "AppLayout(children=(VBox(children=(HBox(children=(HTML(value='<h1>questiom.com</h1>', placeholder=''), Button(…"
      ]
     },
     "metadata": {},
     "output_type": "display_data"
    }
   ],
   "source": [
    "from voilapp import VoilApp\n",
    "\n",
    "app = VoilApp('',False)\n",
    "\n",
    "def goAbout(b):\n",
    "    app.setCurrentScreen(1)\n",
    "\n",
    "def getExercise(b):\n",
    "    app.setCurrentScreen(2)\n",
    "    \n",
    "def answerExercise(b):\n",
    "    app.setCurrentScreen(3)\n",
    "    \n",
    "def goInitial(b):\n",
    "    app.setCurrentScreen(0)\n",
    "    \n",
    "def submitExercise(b):\n",
    "    app.setCurrentScreen(0)\n",
    "    print(app.getWidget(3,\"quest1\").widget.value)\n",
    "    print(app.getWidget(3,\"quest2\").widget.value)\n",
    "    print(app.getWidget(3,\"quest3\").widget.value)\n",
    "    print(app.getWidget(3,\"quest4\").widget.value)\n",
    "    print(app.getWidget(3,\"quest5\").widget.value)\n",
    "    \n",
    "\n",
    "GoAbout = app.getWidget(0,\"1\")\n",
    "GoAbout.widget.on_click(goAbout)  \n",
    "    \n",
    "GoBTN = app.getWidget(0,\"3\")\n",
    "GoBTN.widget.on_click(getExercise)\n",
    "\n",
    "homeAbt = app.getWidget(1,\"5\")\n",
    "homeAbt.widget.on_click(goInitial)\n",
    "\n",
    "answer = app.getWidget(2,\"10\")\n",
    "answer.widget.on_click(answerExercise)\n",
    "\n",
    "submit = app.getWidget(3,\"23\")\n",
    "submit.widget.on_click(submitExercise)\n",
    "\n",
    "\n",
    "display(app.display())"
   ]
  },
  {
   "cell_type": "code",
   "execution_count": null,
   "metadata": {},
   "outputs": [],
   "source": []
  }
 ],
 "metadata": {
  "kernelspec": {
   "display_name": "Python 3",
   "language": "python",
   "name": "python3"
  },
  "language_info": {
   "codemirror_mode": {
    "name": "ipython",
    "version": 3
   },
   "file_extension": ".py",
   "mimetype": "text/x-python",
   "name": "python",
   "nbconvert_exporter": "python",
   "pygments_lexer": "ipython3",
   "version": "3.8.3"
  }
 },
 "nbformat": 4,
 "nbformat_minor": 4
}
