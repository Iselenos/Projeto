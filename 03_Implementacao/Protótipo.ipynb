{
 "cells": [
  {
   "cell_type": "code",
   "execution_count": 1,
   "metadata": {
    "scrolled": false
   },
   "outputs": [
    {
     "data": {
      "application/vnd.jupyter.widget-view+json": {
       "model_id": "7d397b89e1b24f57b11eef31111e3ab7",
       "version_major": 2,
       "version_minor": 0
      },
      "text/plain": [
       "AppLayout(children=(VBox(children=(HBox(children=(Dropdown(description='Dropdown', options=('Insert options',)…"
      ]
     },
     "metadata": {},
     "output_type": "display_data"
    }
   ],
   "source": [
    "from application import Application \n",
    "app = Application(\"\",False)\n",
    "\n",
    "def buttonscreen1(b):\n",
    "    app.setCurrentScreen(1)\n",
    "\n",
    "\n",
    "#Add new Widget\n",
    "wid = app.addWidget(0,\"Button\")\n",
    "\n",
    "#Get attributes from Widget\n",
    "widAttribs = wid.getAttribsDev()\n",
    "\n",
    "#Change and update to be 3rd row\n",
    "widAttribs[1]=2\n",
    "wid.widgetLoader(0,widAttribs)\n",
    "wid.widget.on_click(buttonscreen1)\n",
    "\n",
    "#app.saveData()\n",
    "\n",
    "display(app.display())"
   ]
  },
  {
   "cell_type": "code",
   "execution_count": null,
   "metadata": {},
   "outputs": [],
   "source": []
  }
 ],
 "metadata": {
  "kernelspec": {
   "display_name": "Python 3",
   "language": "python",
   "name": "python3"
  },
  "language_info": {
   "codemirror_mode": {
    "name": "ipython",
    "version": 3
   },
   "file_extension": ".py",
   "mimetype": "text/x-python",
   "name": "python",
   "nbconvert_exporter": "python",
   "pygments_lexer": "ipython3",
   "version": "3.8.3"
  }
 },
 "nbformat": 4,
 "nbformat_minor": 4
}
