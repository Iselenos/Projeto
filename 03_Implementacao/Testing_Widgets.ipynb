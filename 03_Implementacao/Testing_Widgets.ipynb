{
 "cells": [
  {
   "cell_type": "code",
   "execution_count": 1,
   "metadata": {},
   "outputs": [],
   "source": [
    "from ipywidgets import AppLayout, Button, Layout, Tab, Text, VBox, GridBox, Label, Layout, Box\n",
    "import ipyvuetify as v"
   ]
  },
  {
   "cell_type": "code",
   "execution_count": 2,
   "metadata": {},
   "outputs": [],
   "source": [
    "def create_expanded_button(description, button_style):\n",
    "    return Button(description=description, button_style=button_style, layout=Layout(height='auto', width='auto'))"
   ]
  },
  {
   "cell_type": "code",
   "execution_count": 3,
   "metadata": {},
   "outputs": [],
   "source": [
    "center_button = create_expanded_button('Preview', 'primary')\n",
    "test = create_expanded_button('Export App', 'info')"
   ]
  },
  {
   "cell_type": "code",
   "execution_count": 16,
   "metadata": {},
   "outputs": [],
   "source": [
    "def createButton(desc):\n",
    "    out = Button(\n",
    "            description= desc,\n",
    "            disabled=False,\n",
    "            button_style='', \n",
    "            tooltip='Click me',\n",
    "            icon='check'\n",
    "            )\n",
    "    return out\n",
    "\n",
    "\n",
    "newApp = createButton('Create a new App')\n",
    "editApp = createButton('Edit your App')\n",
    "exportApp = createButton('Export App')\n",
    "\n",
    "tab_contents = [newApp, editApp]\n",
    "tab_contents_title = ['New App', 'Edit App'] ##Needed\n",
    "children = [newApp,editApp]\n",
    "tab = Tab()\n",
    "tab.children = children\n",
    "tab.selected_index = None\n",
    "for i in range(len(children)):\n",
    "    tab.set_title(i, tab_contents_title[i])\n",
    "\n",
    "def on_menu_click(widget, event, data):\n",
    "    if len(layout.children) == 1:\n",
    "        layout.children = layout.children + [info]\n",
    "    info.children=[f'Item {items.index(widget)+1} clicked']\n",
    "    \n",
    "\n",
    "items = [v.ListItem(children=[\n",
    "    v.ListItemTitle(children=[\n",
    "        tab_contents_title[0]])]),\n",
    "         v.ListItem(children=[\n",
    "    v.ListItemTitle(children=[\n",
    "        tab_contents_title[1]])])]\n",
    "\n",
    "for item in items:\n",
    "    item.on_event('click', on_menu_click)\n",
    "\n",
    "menu = v.Menu(layout = Layout(width='150px'),offset_y=True,\n",
    "    v_slots=[{\n",
    "        'name': 'activator',\n",
    "        'variable': 'menuData',\n",
    "        'children': v.Btn(v_on='menuData.on', class_='ma-2', color='primary', children=[\n",
    "            'menu', \n",
    "            v.Icon(right=True, children=[\n",
    "                'mdi-menu-down'\n",
    "            ])\n",
    "        ]),\n",
    "    }]\n",
    "    , \n",
    "    children=[\n",
    "        \n",
    "        v.List(children=items)\n",
    "    ]\n",
    ")\n",
    "asd = GridBox(layout=Layout(border='1px solid'))\n",
    "\n",
    "widgetsInspector = [newApp,editApp,exportApp]\n",
    "\n",
    "    \n",
    "items = [VBox(widgetsInspector,layout=Layout(border='1px solid',height='420px',margin='0px 0px 30px 0px')), \n",
    "         Box(layout=Layout(border='1px solid',height='150px'))]\n",
    "left_box = VBox([items[0], items[1]],layout=Layout())\n",
    "\n",
    "sideBar_contents = ['Add Widget', 'Widgets Inspector']\n",
    "children_sideBar = [newApp,left_box]\n",
    "sideBar = Tab()\n",
    "sideBar.children = children_sideBar\n",
    "sideBar.selected_index = None\n",
    "for i in range(len(children_sideBar)):\n",
    "    sideBar.set_title(i, sideBar_contents[i])\n"
   ]
  },
  {
   "cell_type": "code",
   "execution_count": 17,
   "metadata": {},
   "outputs": [
    {
     "data": {
      "application/vnd.jupyter.widget-view+json": {
       "model_id": "0712af3d8d9c4470bb488b624f540034",
       "version_major": 2,
       "version_minor": 0
      },
      "text/plain": [
       "AppLayout(children=(Menu(children=[List(children=[ListItem(children=[ListItemTitle(children=['New App'])]), Li…"
      ]
     },
     "metadata": {},
     "output_type": "display_data"
    }
   ],
   "source": [
    "AppLayout(header=menu,\n",
    "          left_sidebar=None,\n",
    "          center= asd,\n",
    "          right_sidebar=sideBar,\n",
    "          pane_widths=[3,3,2],\n",
    "          pane_heights=[1, 13,1],\n",
    "         grid_gap=\"20px\")"
   ]
  },
  {
   "cell_type": "code",
   "execution_count": null,
   "metadata": {},
   "outputs": [],
   "source": []
  },
  {
   "cell_type": "code",
   "execution_count": null,
   "metadata": {},
   "outputs": [],
   "source": []
  }
 ],
 "metadata": {
  "kernelspec": {
   "display_name": "Python 3",
   "language": "python",
   "name": "python3"
  },
  "language_info": {
   "codemirror_mode": {
    "name": "ipython",
    "version": 3
   },
   "file_extension": ".py",
   "mimetype": "text/x-python",
   "name": "python",
   "nbconvert_exporter": "python",
   "pygments_lexer": "ipython3",
   "version": "3.8.3"
  }
 },
 "nbformat": 4,
 "nbformat_minor": 4
}
