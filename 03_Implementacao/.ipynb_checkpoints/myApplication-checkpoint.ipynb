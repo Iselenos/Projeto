{
 "cells": [
  {
   "cell_type": "code",
   "execution_count": 1,
   "metadata": {},
   "outputs": [
    {
     "data": {
      "application/vnd.jupyter.widget-view+json": {
       "model_id": "2b73ac76134c4d029ab16c7bca6f73ff",
       "version_major": 2,
       "version_minor": 0
      },
      "text/plain": [
       "AppLayout(children=(VBox(children=(HBox(children=(HTML(value='<h1>questiom.com</h1>', placeholder=''), Button(…"
      ]
     },
     "metadata": {},
     "output_type": "display_data"
    }
   ],
   "source": [
    "from application import Application\n",
    "\n",
    "app = Application('',False)\n",
    "\n",
    "def goAbout():\n",
    "    app.setCurrentScreen(1)\n",
    "\n",
    "def getExercise():\n",
    "    app.setCurrentScreen(2)\n",
    "    \n",
    "def goInitial():\n",
    "    app.setCurrentScreen(0)\n",
    "\n",
    "GoAbout = app.getWidget(0,\"1\")\n",
    "GoAbout.on_click(goAbout)  \n",
    "    \n",
    "GoBTN = app.getWidget(0,\"3\")\n",
    "GoBTN.on_click(getExercise)\n",
    "\n",
    "\n",
    "display(app.display())"
   ]
  },
  {
   "cell_type": "code",
   "execution_count": 2,
   "metadata": {},
   "outputs": [
    {
     "name": "stdout",
     "output_type": "stream",
     "text": [
      "['HTML - 0', 'Button - 1', 'TextInput - 2', 'Button - 3']\n"
     ]
    }
   ],
   "source": [
    "print(app.getWidgetIDs(0))"
   ]
  },
  {
   "cell_type": "code",
   "execution_count": null,
   "metadata": {},
   "outputs": [],
   "source": []
  }
 ],
 "metadata": {
  "kernelspec": {
   "display_name": "Python 3",
   "language": "python",
   "name": "python3"
  },
  "language_info": {
   "codemirror_mode": {
    "name": "ipython",
    "version": 3
   },
   "file_extension": ".py",
   "mimetype": "text/x-python",
   "name": "python",
   "nbconvert_exporter": "python",
   "pygments_lexer": "ipython3",
   "version": "3.8.3"
  }
 },
 "nbformat": 4,
 "nbformat_minor": 4
}
