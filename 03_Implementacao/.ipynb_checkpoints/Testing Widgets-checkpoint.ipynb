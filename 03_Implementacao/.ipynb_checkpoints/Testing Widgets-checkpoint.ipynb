{
 "cells": [
  {
   "cell_type": "code",
   "execution_count": 1,
   "metadata": {},
   "outputs": [],
   "source": [
    "from ipywidgets import AppLayout, Button, Layout, Tab, Text"
   ]
  },
  {
   "cell_type": "code",
   "execution_count": 2,
   "metadata": {},
   "outputs": [],
   "source": [
    "def create_expanded_button(description, button_style):\n",
    "    return Button(description=description, button_style=button_style, layout=Layout(height='auto', width='auto'))"
   ]
  },
  {
   "cell_type": "code",
   "execution_count": 3,
   "metadata": {},
   "outputs": [],
   "source": [
    "center_button = create_expanded_button('Preview', 'primary')\n",
    "test = create_expanded_button('Export App', 'info')"
   ]
  },
  {
   "cell_type": "code",
   "execution_count": 1,
   "metadata": {},
   "outputs": [
    {
     "ename": "NameError",
     "evalue": "name 'Button' is not defined",
     "output_type": "error",
     "traceback": [
      "\u001b[1;31m---------------------------------------------------------------------------\u001b[0m",
      "\u001b[1;31mNameError\u001b[0m                                 Traceback (most recent call last)",
      "\u001b[1;32m<ipython-input-1-48003782b9fe>\u001b[0m in \u001b[0;36m<module>\u001b[1;34m\u001b[0m\n\u001b[0;32m     11\u001b[0m \u001b[1;33m\u001b[0m\u001b[0m\n\u001b[0;32m     12\u001b[0m \u001b[1;33m\u001b[0m\u001b[0m\n\u001b[1;32m---> 13\u001b[1;33m \u001b[0mnewApp\u001b[0m \u001b[1;33m=\u001b[0m \u001b[0mcreateButton\u001b[0m\u001b[1;33m(\u001b[0m\u001b[1;34m'Create a new App'\u001b[0m\u001b[1;33m)\u001b[0m\u001b[1;33m\u001b[0m\u001b[1;33m\u001b[0m\u001b[0m\n\u001b[0m\u001b[0;32m     14\u001b[0m \u001b[0meditApp\u001b[0m \u001b[1;33m=\u001b[0m \u001b[0mcreateButton\u001b[0m\u001b[1;33m(\u001b[0m\u001b[1;34m'Edit your App'\u001b[0m\u001b[1;33m)\u001b[0m\u001b[1;33m\u001b[0m\u001b[1;33m\u001b[0m\u001b[0m\n\u001b[0;32m     15\u001b[0m \u001b[0mexportApp\u001b[0m \u001b[1;33m=\u001b[0m \u001b[0mcreateButton\u001b[0m\u001b[1;33m(\u001b[0m\u001b[1;34m'Export App'\u001b[0m\u001b[1;33m)\u001b[0m\u001b[1;33m\u001b[0m\u001b[1;33m\u001b[0m\u001b[0m\n",
      "\u001b[1;32m<ipython-input-1-48003782b9fe>\u001b[0m in \u001b[0;36mcreateButton\u001b[1;34m(desc)\u001b[0m\n\u001b[0;32m      1\u001b[0m \u001b[1;32mfrom\u001b[0m \u001b[0mlib\u001b[0m\u001b[1;33m.\u001b[0m\u001b[0mwidgets\u001b[0m\u001b[1;33m.\u001b[0m\u001b[0mtestWidget\u001b[0m \u001b[1;32mimport\u001b[0m \u001b[0mtestWidget\u001b[0m\u001b[1;33m\u001b[0m\u001b[1;33m\u001b[0m\u001b[0m\n\u001b[0;32m      2\u001b[0m \u001b[1;32mdef\u001b[0m \u001b[0mcreateButton\u001b[0m\u001b[1;33m(\u001b[0m\u001b[0mdesc\u001b[0m\u001b[1;33m)\u001b[0m\u001b[1;33m:\u001b[0m\u001b[1;33m\u001b[0m\u001b[1;33m\u001b[0m\u001b[0m\n\u001b[1;32m----> 3\u001b[1;33m     out = Button(\n\u001b[0m\u001b[0;32m      4\u001b[0m             \u001b[0mdescription\u001b[0m\u001b[1;33m=\u001b[0m \u001b[0mdesc\u001b[0m\u001b[1;33m,\u001b[0m\u001b[1;33m\u001b[0m\u001b[1;33m\u001b[0m\u001b[0m\n\u001b[0;32m      5\u001b[0m             \u001b[0mdisabled\u001b[0m\u001b[1;33m=\u001b[0m\u001b[1;32mFalse\u001b[0m\u001b[1;33m,\u001b[0m\u001b[1;33m\u001b[0m\u001b[1;33m\u001b[0m\u001b[0m\n",
      "\u001b[1;31mNameError\u001b[0m: name 'Button' is not defined"
     ]
    }
   ],
   "source": [
    "from lib.widgets.testWidget import testWidget\n",
    "def createButton(desc):\n",
    "    out = Button(\n",
    "            description= desc,\n",
    "            disabled=False,\n",
    "            button_style='', \n",
    "            tooltip='Click me',\n",
    "            icon='check'\n",
    "            )\n",
    "    return out\n",
    "\n",
    "\n",
    "newApp = createButton('Create a new App')\n",
    "editApp = createButton('Edit your App')\n",
    "exportApp = createButton('Export App')\n",
    "\n",
    "tab_contents = [newApp, editApp]\n",
    "tab_contents_title = ['New App', 'Edit App']\n",
    "children = [newApp,editApp]\n",
    "tab = Tab()\n",
    "tab.children = children\n",
    "tab.selected_index = None\n",
    "for i in range(len(children)):\n",
    "    tab.set_title(i, tab_contents_title[i])\n",
    "    \n",
    "x = testWidget()\n",
    "sideBar_contents = [x.getReferenceButton(), x.getReferenceButton()]\n",
    "sideBar_names = [\"1\",\"2\"]\n",
    "#children_sideBar = [Text(description=name) for name in sideBar_contents]\n",
    "sideBar = Tab()\n",
    "sideBar.children = sideBar_contents\n",
    "sideBar.selected_index = 0\n",
    "for i in range(len(sideBar_contents)):\n",
    "    sideBar.set_title(i, sideBar_names[i])"
   ]
  },
  {
   "cell_type": "code",
   "execution_count": 5,
   "metadata": {},
   "outputs": [
    {
     "data": {
      "application/vnd.jupyter.widget-view+json": {
       "model_id": "af8356510d8540c395571fb851a65196",
       "version_major": 2,
       "version_minor": 0
      },
      "text/plain": [
       "AppLayout(children=(Tab(children=(Button(description='Create a new App', icon='check', style=ButtonStyle(), to…"
      ]
     },
     "metadata": {},
     "output_type": "display_data"
    }
   ],
   "source": [
    "AppLayout(header=tab,\n",
    "          left_sidebar=None,\n",
    "          center=center_button,\n",
    "          right_sidebar=sideBar,\n",
    "          footer=test,\n",
    "          pane_heights=[1, 10,1],\n",
    "         grid_gap=\"20px\")"
   ]
  },
  {
   "cell_type": "code",
   "execution_count": 1,
   "metadata": {},
   "outputs": [
    {
     "data": {
      "application/vnd.jupyter.widget-view+json": {
       "model_id": "0e5c6cf27ed04dae929a6d5671b4867a",
       "version_major": 2,
       "version_minor": 0
      },
      "text/plain": [
       "Button(description='Im a Int Slider', icon='check', style=ButtonStyle(), tooltip='Click me')"
      ]
     },
     "metadata": {},
     "output_type": "display_data"
    },
    {
     "name": "stdout",
     "output_type": "stream",
     "text": [
      "Got it\n"
     ]
    }
   ],
   "source": [
    "import ipywidgets as widgets\n",
    "from lib.widgets.testWidget import testWidget\n",
    "x = testWidget()\n",
    "\n",
    "display(x.represent)\n",
    "\n",
    "\n"
   ]
  },
  {
   "cell_type": "code",
   "execution_count": null,
   "metadata": {},
   "outputs": [],
   "source": []
  }
 ],
 "metadata": {
  "kernelspec": {
   "display_name": "Python 3",
   "language": "python",
   "name": "python3"
  },
  "language_info": {
   "codemirror_mode": {
    "name": "ipython",
    "version": 3
   },
   "file_extension": ".py",
   "mimetype": "text/x-python",
   "name": "python",
   "nbconvert_exporter": "python",
   "pygments_lexer": "ipython3",
   "version": "3.8.3"
  }
 },
 "nbformat": 4,
 "nbformat_minor": 4
}
