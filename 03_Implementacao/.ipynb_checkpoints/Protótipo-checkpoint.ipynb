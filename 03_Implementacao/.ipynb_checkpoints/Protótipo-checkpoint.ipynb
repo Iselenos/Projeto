{
 "cells": [
  {
   "cell_type": "code",
   "execution_count": 1,
   "metadata": {
    "scrolled": false
   },
   "outputs": [
    {
     "name": "stdout",
     "output_type": "stream",
     "text": [
      "Insert options\n",
      "Insert options\n",
      "Insert options\n",
      "Insert options\n",
      "Insert options\n",
      "Insert options\n"
     ]
    },
    {
     "data": {
      "text/html": [
       "<style>.jp-Notebook{margin:0 10% 0 10%}.jp-Notebook, .vuetify-styles div.v-application--wrap {background-color:slategray;}.inspector{background-color:white;}</style>"
      ],
      "text/plain": [
       "<IPython.core.display.HTML object>"
      ]
     },
     "metadata": {},
     "output_type": "display_data"
    },
    {
     "data": {
      "application/vnd.jupyter.widget-view+json": {
       "model_id": "134a1036bdd743e895dbf494c8850102",
       "version_major": 2,
       "version_minor": 0
      },
      "text/plain": [
       "AppLayout(children=(Menu(children=[List(children=[ListItem(children=[ListItemTitle(children=['New App'])]), Li…"
      ]
     },
     "metadata": {},
     "output_type": "display_data"
    },
    {
     "name": "stdout",
     "output_type": "stream",
     "text": [
      "{'nbformat': 4, 'nbformat_minor': 4, 'metadata': {}, 'cells': []}\n",
      "Saving Screen : 0   Widget : 0\n",
      "Saving Screen : 0   Widget : 1\n",
      "Saving Screen : 1   Widget : 0\n"
     ]
    }
   ],
   "source": [
    "from application import Application \n",
    "app = Application(\"data\",True)\n",
    "\n",
    "display(app.display())\n"
   ]
  },
  {
   "cell_type": "code",
   "execution_count": null,
   "metadata": {},
   "outputs": [],
   "source": []
  }
 ],
 "metadata": {
  "kernelspec": {
   "display_name": "Python 3",
   "language": "python",
   "name": "python3"
  },
  "language_info": {
   "codemirror_mode": {
    "name": "ipython",
    "version": 3
   },
   "file_extension": ".py",
   "mimetype": "text/x-python",
   "name": "python",
   "nbconvert_exporter": "python",
   "pygments_lexer": "ipython3",
   "version": "3.8.3"
  }
 },
 "nbformat": 4,
 "nbformat_minor": 4
}
