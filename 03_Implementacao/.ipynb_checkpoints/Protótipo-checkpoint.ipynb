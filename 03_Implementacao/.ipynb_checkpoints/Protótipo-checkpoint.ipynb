{
 "cells": [
  {
   "cell_type": "code",
   "execution_count": 2,
   "metadata": {
    "scrolled": false
   },
   "outputs": [
    {
     "data": {
      "text/html": [
       "<style>.jp-Notebook{margin:0 10% 0 10%}.jp-Notebook, .vuetify-styles div.v-application--wrap {background-color:slategray;}.inspector{background-color:white;}</style>"
      ],
      "text/plain": [
       "<IPython.core.display.HTML object>"
      ]
     },
     "metadata": {},
     "output_type": "display_data"
    },
    {
     "data": {
      "application/vnd.jupyter.widget-view+json": {
       "model_id": "689870b5d93e48bc97121f9ab19fc3b4",
       "version_major": 2,
       "version_minor": 0
      },
      "text/plain": [
       "AppLayout(children=(Menu(children=[List(children=[ListItem(children=[ListItemTitle(children=['New'])]), ListIt…"
      ]
     },
     "metadata": {},
     "output_type": "display_data"
    }
   ],
   "source": [
    "from application import Application \n",
    "app = Application(\"\",True)\n",
    "\n",
    "def buttonscreen1(b):\n",
    "    app.setCurrentScreen(1)\n",
    "\n",
    "#Add new Widget\n",
    "#wid = app.addWidget(0,\"Button\")\n",
    "\n",
    "\n",
    "#Get attributes from Widget\n",
    "#widAttribs = wid.getAttribsDev()\n",
    "\n",
    "#Change and update to be 3rd row\n",
    "#widAttribs[1] = 2\n",
    "#widAttribs[4] = \"Submit\"\n",
    "#wid.widgetLoader(0 ,widAttribs)\n",
    "#wid.widget.on_click(buttonscreen1)\n",
    "\n",
    "#app.saveData()\n",
    "\n",
    "display(app.display())"
   ]
  },
  {
   "cell_type": "code",
   "execution_count": null,
   "metadata": {},
   "outputs": [],
   "source": []
  }
 ],
 "metadata": {
  "kernelspec": {
   "display_name": "Python 3",
   "language": "python",
   "name": "python3"
  }
 },
 "nbformat": 4,
 "nbformat_minor": 4
}
