{
 "cells": [
  {
   "cell_type": "code",
   "execution_count": 3,
   "metadata": {
    "scrolled": false
   },
   "outputs": [
    {
     "data": {
      "text/html": [
       "<style>.jp-Notebook{margin:0 10% 0 10%}.jp-Notebook, .vuetify-styles div.v-application--wrap {background-color:slategray;}.inspector{background-color:white;}</style>"
      ],
      "text/plain": [
       "<IPython.core.display.HTML object>"
      ]
     },
     "metadata": {},
     "output_type": "display_data"
    },
    {
     "data": {
      "application/vnd.jupyter.widget-view+json": {
       "model_id": "dcc1712d26614f5fb0895f393bd54a94",
       "version_major": 2,
       "version_minor": 0
      },
      "text/plain": [
       "AppLayout(children=(Menu(children=[List(children=[ListItem(children=[ListItemTitle(children=['New'])]), ListIt…"
      ]
     },
     "metadata": {},
     "output_type": "display_data"
    }
   ],
   "source": [
    "from application import Application \n",
    "app = Application(\"\",False)\n",
    "\n",
    "def buttonscreen1(b):\n",
    "    app.setCurrentScreen(1)\n",
    "\n",
    "\n",
    "#Add new Widget\n",
    "wid = app.addWidget(0,\"Button\")\n",
    "\n",
    "#Get attributes from Widget\n",
    "widAttribs = wid.getAttribsDev()\n",
    "\n",
    "#Change and update to be 3rd row\n",
    "widAttribs[1]=2\n",
    "wid.widgetLoader(0,widAttribs)\n",
    "wid.widget.on_click(buttonscreen1)\n",
    "\n",
    "display(app.display())"
   ]
  },
  {
   "cell_type": "code",
   "execution_count": 3,
   "metadata": {},
   "outputs": [
    {
     "name": "stdout",
     "output_type": "stream",
     "text": [
      "['0', '1', '3']\n",
      "<lib.widgets.dropdown.Dropdown object at 0x000001E74D2F0BB0>\n",
      "Dropdown(description='Dropdown', options=('Insert options',), value='Insert options')\n"
     ]
    }
   ],
   "source": [
    "print(app.getWidgetIDs(0))\n",
    "print(app.getWidget(0,'0'))\n",
    "print(app.getIpyWidget(0,'0'))"
   ]
  },
  {
   "cell_type": "code",
   "execution_count": null,
   "metadata": {},
   "outputs": [],
   "source": []
  }
 ],
 "metadata": {
  "kernelspec": {
   "display_name": "Python 3",
   "language": "python",
   "name": "python3"
  },
  "language_info": {
   "codemirror_mode": {
    "name": "ipython",
    "version": 3
   },
   "file_extension": ".py",
   "mimetype": "text/x-python",
   "name": "python",
   "nbconvert_exporter": "python",
   "pygments_lexer": "ipython3",
   "version": "3.8.3"
  }
 },
 "nbformat": 4,
 "nbformat_minor": 4
}
