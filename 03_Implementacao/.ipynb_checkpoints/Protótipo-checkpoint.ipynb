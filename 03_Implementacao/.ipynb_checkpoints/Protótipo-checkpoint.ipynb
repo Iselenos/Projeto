{
 "cells": [
  {
   "cell_type": "code",
   "execution_count": 11,
   "metadata": {},
   "outputs": [],
   "source": [
    "import ipywidgets"
   ]
  },
  {
   "cell_type": "code",
   "execution_count": 52,
   "metadata": {},
   "outputs": [],
   "source": [
    "xd = widgets.Button(\n",
    "    description='Create a new App',\n",
    "    disabled=False,\n",
    "    button_style='', \n",
    "    tooltip='Click me',\n",
    "    icon='check'\n",
    ")"
   ]
  },
  {
   "cell_type": "code",
   "execution_count": 49,
   "metadata": {},
   "outputs": [],
   "source": [
    "xd2 = widgets.Button(\n",
    "    description='Edit your App',\n",
    "    disabled=False,\n",
    "    button_style='',\n",
    "    tooltip='Click me',\n",
    "    icon='check'\n",
    ")"
   ]
  },
  {
   "cell_type": "code",
   "execution_count": 51,
   "metadata": {},
   "outputs": [],
   "source": [
    "tab_contents = [xd, xd2]\n",
    "tab_contents_title = ['New App', 'Edit App']\n",
    "children = [xd,xd2]\n",
    "tab = widgets.Tab()\n",
    "tab.children = children\n",
    "tab.selected_index = None\n",
    "for i in range(len(children)):\n",
    "    tab.set_title(i, tab_contents_title[i])"
   ]
  },
  {
   "cell_type": "code",
   "execution_count": 47,
   "metadata": {},
   "outputs": [
    {
     "data": {
      "application/vnd.jupyter.widget-view+json": {
       "model_id": "2dd65765ed154ba498e3e8ab166a187c",
       "version_major": 2,
       "version_minor": 0
      },
      "text/plain": [
       "GridBox(children=(Tab(children=(Button(description='Create a new App', icon='check', style=ButtonStyle(), tool…"
      ]
     },
     "metadata": {},
     "output_type": "display_data"
    }
   ],
   "source": [
    "header  = tab\n",
    "\n",
    "main    = widgets.Button(description='Main',\n",
    "                 layout=widgets.Layout(width='auto', grid_area='main'),\n",
    "                 style=widgets.ButtonStyle(button_color='moccasin'))\n",
    "sidebar = widgets.Button(description='Sidebar',\n",
    "                 layout=widgets.Layout(width='auto', grid_area='sidebar'),\n",
    "                 style=widgets.ButtonStyle(button_color='salmon'))\n",
    "footer  = widgets.Button(description='Footer',\n",
    "                 layout=widgets.Layout(width='auto', grid_area='footer'),\n",
    "                 style=widgets.ButtonStyle(button_color='olive'))\n",
    "\n",
    "widgets.GridBox(children=[header, main, sidebar, footer],\n",
    "        layout=widgets.Layout(\n",
    "            width='100%',\n",
    "            grid_template_rows='auto auto auto',\n",
    "            grid_template_columns='25% 25% 25% 25%',\n",
    "            grid_template_areas='''\n",
    "            \"header header header header\"\n",
    "            \"main main . sidebar \"\n",
    "            \"footer footer footer footer\"\n",
    "            ''')\n",
    "       )"
   ]
  },
  {
   "cell_type": "code",
   "execution_count": null,
   "metadata": {},
   "outputs": [],
   "source": []
  }
 ],
 "metadata": {
  "kernelspec": {
   "display_name": "Python 3",
   "language": "python",
   "name": "python3"
  },
  "language_info": {
   "codemirror_mode": {
    "name": "ipython",
    "version": 3
   },
   "file_extension": ".py",
   "mimetype": "text/x-python",
   "name": "python",
   "nbconvert_exporter": "python",
   "pygments_lexer": "ipython3",
   "version": "3.8.5"
  }
 },
 "nbformat": 4,
 "nbformat_minor": 4
}
