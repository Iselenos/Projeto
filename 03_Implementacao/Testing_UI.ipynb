{
 "cells": [
  {
   "cell_type": "code",
   "execution_count": 7,
   "metadata": {},
   "outputs": [],
   "source": [
    "from ipywidgets import AppLayout, Button, Layout, Tab, Text, VBox, GridBox, Label, Layout, Box\n",
    "import ipyvuetify as v"
   ]
  },
  {
   "cell_type": "code",
   "execution_count": 8,
   "metadata": {},
   "outputs": [],
   "source": [
    "def create_expanded_button(description, button_style):\n",
    "    return Button(description=description, button_style=button_style, layout=Layout(height='auto', width='auto'))"
   ]
  },
  {
   "cell_type": "code",
   "execution_count": 9,
   "metadata": {},
   "outputs": [],
   "source": [
    "center_button = create_expanded_button('Preview', 'primary')\n",
    "test = create_expanded_button('Export App', 'info')"
   ]
  },
  {
   "cell_type": "code",
   "execution_count": 10,
   "metadata": {},
   "outputs": [],
   "source": [
    "def createButton(desc):\n",
    "    out = Button(\n",
    "            description= desc,\n",
    "            disabled=False,\n",
    "            button_style='', \n",
    "            tooltip='Click me',\n",
    "            icon='check'\n",
    "            )\n",
    "    return out\n",
    "\n",
    "\n",
    "newApp = createButton('Create a new App')\n",
    "editApp = createButton('Edit your App')\n",
    "exportApp = createButton('Export App')\n",
    "\n",
    "tab_contents_title = ['New App', 'Edit App'] ##Needed\n",
    "\n",
    "def on_menu_click(widget, event, data):\n",
    "    if len(widget.layout.children) == 1:\n",
    "        widget.layout.children = layout.children + [info]\n",
    "    widget.nfo.children=[f'Item {items.index(widget)+1} clicked']\n",
    "    \n",
    "\n",
    "items = [v.ListItem(children=[\n",
    "    v.ListItemTitle(children=[\n",
    "        tab_contents_title[0]])]),\n",
    "         v.ListItem(children=[\n",
    "    v.ListItemTitle(children=[\n",
    "        tab_contents_title[1]])])]\n",
    "\n",
    "for item in items:\n",
    "    item.on_event('click', on_menu_click)\n",
    "\n",
    "menu = v.Menu(layout = Layout(width='150px'),offset_y=True,\n",
    "    v_slots=[{\n",
    "        'name': 'activator',\n",
    "        'variable': 'menuData',\n",
    "        'children': v.Btn(v_on='menuData.on', class_='ma-2', color='primary', children=[\n",
    "            'menu', \n",
    "            v.Icon(right=True, children=[\n",
    "                'mdi-menu-down'\n",
    "            ])\n",
    "        ]),\n",
    "    }]\n",
    "    , \n",
    "    children=[\n",
    "        \n",
    "        v.List(children=items)\n",
    "    ]\n",
    ")\n",
    "preview = GridBox(layout=Layout(border='1px solid'))\n",
    "widgetsInspector = [newApp]\n",
    "inspectorItems = [VBox(widgetsInspector,layout=Layout(border='1px solid',height='420px',margin='0px 0px 30px 0px',align_items='center')), \n",
    "         VBox(layout=Layout(border='1px solid',height='150px',align_items='center'))]\n",
    "\n",
    "inspector = VBox([inspectorItems[0], inspectorItems[1]],layout=Layout())\n",
    "\n",
    "widgetsAddWidgets = [newApp,editApp,exportApp]\n",
    "addWidgets = VBox(widgetsAddWidgets, layout=Layout(align_items='center'))\n",
    "sideBar_contents = ['Add Widget', 'Widgets Inspector']\n",
    "children_sideBar = [addWidgets,inspector]\n",
    "\n",
    "sideBar = Tab()\n",
    "sideBar.children = children_sideBar\n",
    "sideBar.selected_index = None\n",
    "for i in range(len(children_sideBar)):\n",
    "    sideBar.set_title(i, sideBar_contents[i])\n"
   ]
  },
  {
   "cell_type": "code",
   "execution_count": 17,
   "metadata": {},
   "outputs": [
    {
     "data": {
      "text/plain": [
       "'asd = AppLayout(header=menu,\\n          left_sidebar=None,\\n          center= preview,\\n          right_sidebar=sideBar,\\n          pane_widths=[3,3,2],\\n          pane_heights=[1, 13,1],\\n         grid_gap=\"20px\")'"
      ]
     },
     "execution_count": 17,
     "metadata": {},
     "output_type": "execute_result"
    }
   ],
   "source": [
    "asd = AppLayout(header=menu,\n",
    "          left_sidebar=None,\n",
    "          center= preview,\n",
    "          right_sidebar=sideBar,\n",
    "          pane_widths=[3,3,2],\n",
    "          pane_heights=[1, 13,1],\n",
    "         grid_gap=\"20px\")"
   ]
  },
  {
   "cell_type": "code",
   "execution_count": 1,
   "metadata": {},
   "outputs": [],
   "source": [
    "import application as a"
   ]
  },
  {
   "cell_type": "code",
   "execution_count": 2,
   "metadata": {},
   "outputs": [],
   "source": [
    "app = a.Application()"
   ]
  },
  {
   "cell_type": "code",
   "execution_count": 3,
   "metadata": {},
   "outputs": [
    {
     "data": {
      "application/vnd.jupyter.widget-view+json": {
       "model_id": "2e1d2909360f4681ae97b544ecd470c3",
       "version_major": 2,
       "version_minor": 0
      },
      "text/plain": [
       "AppLayout(children=(Menu(children=[List(children=[ListItem(children=[ListItemTitle(children=['New App'])]), Li…"
      ]
     },
     "metadata": {},
     "output_type": "display_data"
    }
   ],
   "source": [
    "display(app.display())"
   ]
  },
  {
   "cell_type": "code",
   "execution_count": 16,
   "metadata": {},
   "outputs": [
    {
     "data": {
      "application/vnd.jupyter.widget-view+json": {
       "model_id": "1fb796542b9e4508b663af60967b777f",
       "version_major": 2,
       "version_minor": 0
      },
      "text/plain": [
       "Menu(children=[List(children=[ListItem(children=[ListItemTitle(children=['New App'])]), ListItem(children=[Lis…"
      ]
     },
     "metadata": {},
     "output_type": "display_data"
    }
   ],
   "source": []
  },
  {
   "cell_type": "code",
   "execution_count": null,
   "metadata": {},
   "outputs": [],
   "source": []
  }
 ],
 "metadata": {
  "kernelspec": {
   "display_name": "Python 3",
   "language": "python",
   "name": "python3"
  },
  "language_info": {
   "codemirror_mode": {
    "name": "ipython",
    "version": 3
   },
   "file_extension": ".py",
   "mimetype": "text/x-python",
   "name": "python",
   "nbconvert_exporter": "python",
   "pygments_lexer": "ipython3",
   "version": "3.8.5"
  }
 },
 "nbformat": 4,
 "nbformat_minor": 4
}
