{
 "cells": [
  {
   "cell_type": "code",
   "execution_count": null,
   "metadata": {},
   "outputs": [],
   "source": [
    "from application import Application\n",
    "\n",
    "app = Application('test',False)\n",
    "\n",
    "\n",
    "display(app.display())"
   ]
  }
 ],
 "metadata": {},
 "nbformat": 4,
 "nbformat_minor": 4
}
