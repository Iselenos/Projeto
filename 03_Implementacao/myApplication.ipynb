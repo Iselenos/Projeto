{
 "cells": [
  {
   "cell_type": "code",
   "execution_count": null,
   "metadata": {},
   "outputs": [],
   "source": [
    "from application import Application\n",
    "\n",
    "app = Application('',False)\n",
    "\n",
    "\n",
    "display(app.display())"
   ]
  }
 ],
 "metadata": {},
 "nbformat": 4,
 "nbformat_minor": 4
}
