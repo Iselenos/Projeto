{
 "cells": [
  {
   "cell_type": "code",
   "execution_count": 1,
   "metadata": {},
   "outputs": [],
   "source": [
    "from ipywidgets import AppLayout, Button, Layout, Tab, Text"
   ]
  },
  {
   "cell_type": "code",
   "execution_count": 2,
   "metadata": {},
   "outputs": [],
   "source": [
    "def create_expanded_button(description, button_style):\n",
    "    return Button(description=description, button_style=button_style, layout=Layout(height='auto', width='auto'))"
   ]
  },
  {
   "cell_type": "code",
   "execution_count": 10,
   "metadata": {},
   "outputs": [],
   "source": [
    "center_button = create_expanded_button('Preview', 'primary')\n",
    "test = create_expanded_button('Export App', 'info')"
   ]
  },
  {
   "cell_type": "code",
   "execution_count": 5,
   "metadata": {},
   "outputs": [],
   "source": [
    "def createButton(desc):\n",
    "    out = Button(\n",
    "            description= desc,\n",
    "            disabled=False,\n",
    "            button_style='', \n",
    "            tooltip='Click me',\n",
    "            icon='check'\n",
    "            )\n",
    "    return out\n",
    "\n",
    "\n",
    "newApp = createButton('Create a new App')\n",
    "editApp = createButton('Edit your App')\n",
    "exportApp = createButton('Export App')\n",
    "\n",
    "tab_contents = [newApp, editApp]\n",
    "tab_contents_title = ['New App', 'Edit App']\n",
    "children = [newApp,editApp]\n",
    "tab = Tab()\n",
    "tab.children = children\n",
    "tab.selected_index = None\n",
    "for i in range(len(children)):\n",
    "    tab.set_title(i, tab_contents_title[i])\n",
    "    \n",
    "\n",
    "sideBar_contents = ['Add Widget', 'Widgets Inspector']\n",
    "children_sideBar = [Text(description=name) for name in sideBar_contents]\n",
    "sideBar = Tab()\n",
    "sideBar.children = children_sideBar\n",
    "sideBar.selected_index = None\n",
    "for i in range(len(children_sideBar)):\n",
    "    sideBar.set_title(i, sideBar_contents[i])"
   ]
  },
  {
   "cell_type": "code",
   "execution_count": 11,
   "metadata": {},
   "outputs": [
    {
     "data": {
      "application/vnd.jupyter.widget-view+json": {
       "model_id": "2a303cede7fc4d809987e4a736587caa",
       "version_major": 2,
       "version_minor": 0
      },
      "text/plain": [
       "AppLayout(children=(Tab(children=(Button(description='Create a new App', icon='check', style=ButtonStyle(), to…"
      ]
     },
     "metadata": {},
     "output_type": "display_data"
    }
   ],
   "source": [
    "AppLayout(header=tab,\n",
    "          left_sidebar=None,\n",
    "          center=center_button,\n",
    "          right_sidebar=sideBar,\n",
    "          footer=test,\n",
    "          pane_heights=[1, 10,1],\n",
    "         grid_gap=\"20px\")"
   ]
  },
  {
   "cell_type": "code",
   "execution_count": null,
   "metadata": {},
   "outputs": [],
   "source": []
  }
 ],
 "metadata": {
  "kernelspec": {
   "display_name": "Python 3",
   "language": "python",
   "name": "python3"
  },
  "language_info": {
   "codemirror_mode": {
    "name": "ipython",
    "version": 3
   },
   "file_extension": ".py",
   "mimetype": "text/x-python",
   "name": "python",
   "nbconvert_exporter": "python",
   "pygments_lexer": "ipython3",
   "version": "3.8.5"
  }
 },
 "nbformat": 4,
 "nbformat_minor": 4
}
